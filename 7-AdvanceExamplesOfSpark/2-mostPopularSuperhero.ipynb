{
 "cells": [
  {
   "cell_type": "markdown",
   "metadata": {},
   "source": [
    "## Dataset:\n",
    "- Marvel-graph.txt --> have super hero ID as first number in each line and rest number are other super heros as its connections\n",
    "- Marvel-names.txt --> have super hero name along with super hero ID"
   ]
  },
  {
   "cell_type": "markdown",
   "metadata": {},
   "source": [
    "## Tasks :\n",
    "\n",
    "- Split off hero ID from beginning of line\n",
    "- Count how many space separated numbers are in the line (Subtract one as first is the superhero rest are connections)\n",
    "- Group By superhero ID to add up connections split into multiple lines\n",
    "- Sort By total connections\n",
    "- Filter name lookup dataset by the most popular hero ID to look up the name "
   ]
  },
  {
   "cell_type": "code",
   "execution_count": null,
   "metadata": {
    "vscode": {
     "languageId": "plaintext"
    }
   },
   "outputs": [],
   "source": [
    "s"
   ]
  }
 ],
 "metadata": {
  "language_info": {
   "name": "python"
  }
 },
 "nbformat": 4,
 "nbformat_minor": 2
}
